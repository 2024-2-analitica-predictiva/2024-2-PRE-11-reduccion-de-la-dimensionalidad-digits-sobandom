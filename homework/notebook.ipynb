{
 "cells": [
  {
   "cell_type": "code",
   "execution_count": 4,
   "metadata": {},
   "outputs": [
    {
     "ename": "ModuleNotFoundError",
     "evalue": "No module named 'matplotlib'",
     "output_type": "error",
     "traceback": [
      "\u001b[1;31m---------------------------------------------------------------------------\u001b[0m",
      "\u001b[1;31mModuleNotFoundError\u001b[0m                       Traceback (most recent call last)",
      "Cell \u001b[1;32mIn[4], line 37\u001b[0m\n\u001b[0;32m     33\u001b[0m     plt\u001b[38;5;241m.\u001b[39mshow()\n\u001b[0;32m     34\u001b[0m     plt\u001b[38;5;241m.\u001b[39msavefig(\u001b[38;5;124m\"\u001b[39m\u001b[38;5;124mdigits_pca.png\u001b[39m\u001b[38;5;124m\"\u001b[39m)\n\u001b[1;32m---> 37\u001b[0m \u001b[43mpca\u001b[49m\u001b[43m(\u001b[49m\u001b[43m)\u001b[49m\n",
      "Cell \u001b[1;32mIn[4], line 3\u001b[0m, in \u001b[0;36mpca\u001b[1;34m()\u001b[0m\n\u001b[0;32m      1\u001b[0m \u001b[38;5;28;01mdef\u001b[39;00m \u001b[38;5;21mpca\u001b[39m():\n\u001b[1;32m----> 3\u001b[0m     \u001b[38;5;28;01mimport\u001b[39;00m \u001b[38;5;21;01mmatplotlib\u001b[39;00m\u001b[38;5;21;01m.\u001b[39;00m\u001b[38;5;21;01mpyplot\u001b[39;00m \u001b[38;5;28;01mas\u001b[39;00m \u001b[38;5;21;01mplt\u001b[39;00m\n\u001b[0;32m      4\u001b[0m     \u001b[38;5;28;01mimport\u001b[39;00m \u001b[38;5;21;01mnumpy\u001b[39;00m \u001b[38;5;28;01mas\u001b[39;00m \u001b[38;5;21;01mnp\u001b[39;00m\n\u001b[0;32m      5\u001b[0m     \u001b[38;5;28;01mimport\u001b[39;00m \u001b[38;5;21;01mpandas\u001b[39;00m \u001b[38;5;28;01mas\u001b[39;00m \u001b[38;5;21;01mpd\u001b[39;00m\n",
      "\u001b[1;31mModuleNotFoundError\u001b[0m: No module named 'matplotlib'"
     ]
    }
   ],
   "source": [
    "def pca():\n",
    "\n",
    "    import matplotlib.pyplot as plt\n",
    "    import numpy as np\n",
    "    import pandas as pd\n",
    "    from sklearn import datasets, decomposition\n",
    "    from sklearn.datasets import load_digits\n",
    "\n",
    "    digits = load_digits()\n",
    "\n",
    "    X = digits.data\n",
    "    y = digits.target\n",
    "\n",
    "    pca = decomposition.PCA(n_components=2)\n",
    "    principalComponents = pca.fit_transform(X)\n",
    "\n",
    "    \n",
    "    pca_data = np.vstack((principalComponents.T, y)).T\n",
    "    pca_df = pd.DataFrame(\n",
    "        data=pca_data, columns=(\"1st_principal\", \"2nd_principal\", \"label\")\n",
    "    )\n",
    "\n",
    "    fig, ax = plt.subplots(figsize=(8, 8))\n",
    "    plt.scatter(\n",
    "        pca_df[\"1st_principal\"],\n",
    "        pca_df[\"2nd_principal\"],\n",
    "        c=pca_df.label,\n",
    "        cmap=\"Spectral\",\n",
    "        s=6,\n",
    "    )\n",
    "    plt.setp(ax, xticks=[], yticks=[])\n",
    "    plt.title(\"Digits data embedded into two dimensions by PCA\", fontsize=18)\n",
    "    plt.show()\n",
    "    plt.savefig(\"digits_pca.png\")\n",
    "\n",
    "\n",
    "pca()\n",
    "\n"
   ]
  },
  {
   "cell_type": "code",
   "execution_count": null,
   "metadata": {},
   "outputs": [],
   "source": [
    "def tsne():\n",
    "\n",
    "    import matplotlib.pyplot as plt\n",
    "    import numpy as np\n",
    "    import seaborn as sns\n",
    "    import umap\n",
    "    from sklearn import datasets, decomposition\n",
    "    from sklearn.datasets import load_digits\n",
    "    from sklearn.manifold import TSNE\n",
    "\n",
    "    digits = load_digits()\n",
    "\n",
    "    X = digits.data\n",
    "    y = digits.target\n",
    "\n",
    "    tsne = TSNE(n_components=2, random_state=0)\n",
    "    embedding = tsne.fit_transform(X)\n",
    "\n",
    "    fig, ax = plt.subplots(figsize=(8, 8))\n",
    "    plt.scatter(embedding[:, 0], embedding[:, 1], c=y, cmap=\"Spectral\", s=6)\n",
    "    plt.setp(ax, xticks=[], yticks=[])\n",
    "    plt.title(\"Digits data embedded into two dimensions by TSNE\", fontsize=18)\n",
    "    plt.savefig(\"digits_tsne.png\")\n",
    "\n",
    "\n",
    "tsne()"
   ]
  },
  {
   "cell_type": "code",
   "execution_count": null,
   "metadata": {},
   "outputs": [],
   "source": [
    "# Uniform Manifold Approximation and Projection (UMAP)\n",
    "#\n",
    "def umap():\n",
    "\n",
    "    import matplotlib.pyplot as plt\n",
    "    import numpy as np\n",
    "    import umap\n",
    "    from sklearn import datasets, decomposition\n",
    "    from sklearn.datasets import load_digits\n",
    "\n",
    "    digits = load_digits()\n",
    "\n",
    "    X = digits.data\n",
    "    y = digits.target\n",
    "\n",
    "    reducer = umap.UMAP(random_state=42, min_dist=0.8)\n",
    "    embedding = reducer.fit_transform(digits.data)\n",
    "\n",
    "    fig, ax = plt.subplots(figsize=(8, 8))\n",
    "    plt.scatter(embedding[:, 0], embedding[:, 1], c=y, cmap=\"Spectral\", s=4)\n",
    "    plt.setp(ax, xticks=[], yticks=[])\n",
    "    plt.title(\"Digits data embedded into two dimensions by UMAP\", fontsize=18)\n",
    "    plt.savefig(\"digits_umap.png\")\n",
    "\n",
    "\n",
    "umap()"
   ]
  }
 ],
 "metadata": {
  "kernelspec": {
   "display_name": ".venv",
   "language": "python",
   "name": "python3"
  },
  "language_info": {
   "codemirror_mode": {
    "name": "ipython",
    "version": 3
   },
   "file_extension": ".py",
   "mimetype": "text/x-python",
   "name": "python",
   "nbconvert_exporter": "python",
   "pygments_lexer": "ipython3",
   "version": "3.13.0"
  }
 },
 "nbformat": 4,
 "nbformat_minor": 2
}
